{
 "cells": [
  {
   "cell_type": "code",
   "execution_count": 4,
   "id": "50c96157-b6b1-4f8c-bba9-8565f5c89845",
   "metadata": {},
   "outputs": [],
   "source": [
    "from transformers import AutoTokenizer, AutoModelForCausalLM\n",
    "from fastapi import FastAPI"
   ]
  },
  {
   "cell_type": "code",
   "execution_count": 5,
   "id": "138f287d-f565-4ad6-b55b-11256d2617ee",
   "metadata": {},
   "outputs": [],
   "source": [
    "tokenizer = AutoTokenizer.from_pretrained(\"NinedayWang/PolyCoder-0.4B\")\n",
    "model = AutoModelForCausalLM.from_pretrained(\"NinedayWang/PolyCoder-0.4B\")"
   ]
  },
  {
   "cell_type": "code",
   "execution_count": 6,
   "id": "162070c6-e83c-450e-9e86-dd8345c50d9a",
   "metadata": {},
   "outputs": [
    {
     "name": "stderr",
     "output_type": "stream",
     "text": [
      "The attention mask and the pad token id were not set. As a consequence, you may observe unexpected behavior. Please pass your input's `attention_mask` to obtain reliable results.\n",
      "Setting `pad_token_id` to `eos_token_id`:0 for open-end generation.\n"
     ]
    }
   ],
   "source": [
    "prompt ='''\n",
    "    # a program to perform binary search\n",
    "    def binarySearch(arr, left, right, x):\n",
    "    '''\n",
    "input_ids = tokenizer.encode(prompt, return_tensors='pt')\n",
    "result = model.generate(input_ids, max_length=200, num_beams=4)"
   ]
  },
  {
   "cell_type": "code",
   "execution_count": 20,
   "id": "9238bc90-b532-4a4b-b606-d883ae9d5973",
   "metadata": {},
   "outputs": [
    {
     "name": "stdout",
     "output_type": "stream",
     "text": [
      "\n",
      "    # a program to perform binary search\n",
      "    def binarySearch(arr, left, right, x):\n",
      "        if x < left:\n",
      "            return -1\n",
      "        elif x > right:\n",
      "            return 1\n",
      "        else:\n",
      "            return binarySearch(arr, left + 1, right, x)\n",
      "\n",
      "    # a program to perform binary search\n",
      "    def binarySearch2(arr, left, right, x):\n",
      "        if x < left:\n",
      "            return -1\n",
      "        elif x > right:\n",
      "           \n"
     ]
    }
   ],
   "source": [
    "print(tokenizer.decode(result[0]))"
   ]
  },
  {
   "cell_type": "code",
   "execution_count": 2,
   "id": "3f8a829f-5c90-4c63-973a-e50c2325b3bb",
   "metadata": {},
   "outputs": [],
   "source": [
    "app = FastAPI()\n",
    "\n",
    "@app.get(\"/generate\")\n",
    "def generate(data):\n",
    "    result = {\n",
    "        \"status\": \"success\",\n",
    "        \"msg\": \"nice\"\n",
    "    }\n",
    "    return result"
   ]
  },
  {
   "cell_type": "code",
   "execution_count": null,
   "id": "5092a300-6019-4f7f-9bc8-d26fdf16bcc1",
   "metadata": {},
   "outputs": [],
   "source": [
    "tokenizer.decode(result[0])"
   ]
  }
 ],
 "metadata": {
  "kernelspec": {
   "display_name": "Python 3 (ipykernel)",
   "language": "python",
   "name": "python3"
  },
  "language_info": {
   "codemirror_mode": {
    "name": "ipython",
    "version": 3
   },
   "file_extension": ".py",
   "mimetype": "text/x-python",
   "name": "python",
   "nbconvert_exporter": "python",
   "pygments_lexer": "ipython3",
   "version": "3.8.10"
  }
 },
 "nbformat": 4,
 "nbformat_minor": 5
}
